{
  "nbformat": 4,
  "nbformat_minor": 0,
  "metadata": {
    "colab": {
      "name": "Causal_ML_Tutorial.ipynb",
      "version": "0.3.2",
      "provenance": [],
      "include_colab_link": true
    },
    "kernelspec": {
      "name": "python3",
      "display_name": "Python 3"
    }
  },
  "cells": [
    {
      "cell_type": "markdown",
      "metadata": {
        "id": "view-in-github",
        "colab_type": "text"
      },
      "source": [
        "<a href=\"https://colab.research.google.com/github/KamonohashiPerry/kamonohashiperry.com/blob/master/Causal_ML_Tutorial.ipynb\" target=\"_parent\"><img src=\"https://colab.research.google.com/assets/colab-badge.svg\" alt=\"Open In Colab\"/></a>"
      ]
    },
    {
      "cell_type": "code",
      "metadata": {
        "id": "Hg8pgLiLY56J",
        "colab_type": "code",
        "colab": {}
      },
      "source": [
        "# !pip install causalml"
      ],
      "execution_count": 0,
      "outputs": []
    },
    {
      "cell_type": "code",
      "metadata": {
        "id": "zvBOBa-iZDYy",
        "colab_type": "code",
        "colab": {}
      },
      "source": [
        "# %%shell\n",
        "\n",
        "# git clone https://github.com/uber-common/causalml.git\n",
        "# cd causalml\n",
        "# python setup.py build_ext --inplace\n",
        "# python setup.py install"
      ],
      "execution_count": 0,
      "outputs": []
    },
    {
      "cell_type": "code",
      "metadata": {
        "id": "uxqvnm2eZ-t6",
        "colab_type": "code",
        "colab": {}
      },
      "source": [
        "from causalml.inference.meta.slearner  import LRSLearner\n",
        "from causalml.inference.meta.tlearner import XGBTLearner, MLPTLearner\n",
        "from causalml.inference.meta.xlearner import BaseXLearner\n",
        "from causalml.inference.meta.tlearner import XGBRegressor\n",
        "from causalml.dataset import synthetic_data"
      ],
      "execution_count": 0,
      "outputs": []
    },
    {
      "cell_type": "code",
      "metadata": {
        "id": "1HvSIc3ggNsw",
        "colab_type": "code",
        "colab": {}
      },
      "source": [
        "p = 5"
      ],
      "execution_count": 0,
      "outputs": []
    },
    {
      "cell_type": "code",
      "metadata": {
        "id": "nxlmnlhBbApD",
        "colab_type": "code",
        "colab": {}
      },
      "source": [
        "y, X, treatment, _, _2, _3 = synthetic_data(mode=1, n=1000, p=5, sigma=1.0)"
      ],
      "execution_count": 0,
      "outputs": []
    },
    {
      "cell_type": "code",
      "metadata": {
        "id": "Mfzl30n6eKNG",
        "colab_type": "code",
        "colab": {
          "base_uri": "https://localhost:8080/",
          "height": 34
        },
        "outputId": "89fe5723-1e36-4fd2-c8f8-fb891800ef1e"
      },
      "source": [
        "lr = LRSLearner()\n",
        "te, lb, ub = lr.estimate_ate(X, treatment, y)\n",
        "print('Average Treatment Effect (Linear Regression): {:.2f} ({:.2f}, {:.2f})'.format(te, lb, ub))"
      ],
      "execution_count": 84,
      "outputs": [
        {
          "output_type": "stream",
          "text": [
            "Average Treatment Effect (Linear Regression): 0.49 (0.33, 0.64)\n"
          ],
          "name": "stdout"
        }
      ]
    },
    {
      "cell_type": "code",
      "metadata": {
        "id": "8fNZzSuMfbmi",
        "colab_type": "code",
        "colab": {
          "base_uri": "https://localhost:8080/",
          "height": 34
        },
        "outputId": "81dd292b-3433-4186-8b62-946dc14f7edd"
      },
      "source": [
        "xg = XGBTLearner(random_state=42)\n",
        "te, lb, ub = xg.estimate_ate(X, treatment, y)\n",
        "print('Average Treatment Effect (XGBoost): {:.2f} ({:.2f}, {:.2f})'.format(te, lb, ub))"
      ],
      "execution_count": 85,
      "outputs": [
        {
          "output_type": "stream",
          "text": [
            "Average Treatment Effect (XGBoost): 0.45 (0.36, 0.55)\n"
          ],
          "name": "stdout"
        }
      ]
    },
    {
      "cell_type": "code",
      "metadata": {
        "id": "W7u4tX33fD5n",
        "colab_type": "code",
        "colab": {
          "base_uri": "https://localhost:8080/",
          "height": 34
        },
        "outputId": "b875428f-381a-4854-fe30-48510768b10b"
      },
      "source": [
        "nn = MLPTLearner(hidden_layer_sizes=(10, 10),\n",
        "                 learning_rate_init=.1,\n",
        "                 early_stopping=True,\n",
        "                 random_state=42)\n",
        "te, lb, ub = nn.estimate_ate(X, treatment, y)\n",
        "print('Average Treatment Effect (Neural Network (MLP)): {:.2f} ({:.2f}, {:.2f})'.format(te, lb, ub))"
      ],
      "execution_count": 86,
      "outputs": [
        {
          "output_type": "stream",
          "text": [
            "Average Treatment Effect (Neural Network (MLP)): 0.45 (0.32, 0.58)\n"
          ],
          "name": "stdout"
        }
      ]
    },
    {
      "cell_type": "code",
      "metadata": {
        "id": "Qy2m9q73fXNP",
        "colab_type": "code",
        "colab": {
          "base_uri": "https://localhost:8080/",
          "height": 34
        },
        "outputId": "bc967910-f748-45db-ca33-5a8bf440739c"
      },
      "source": [
        "xl = BaseXLearner(learner=XGBRegressor(random_state=42))\n",
        "te, lb, ub = xl.estimate_ate(X, p, treatment, y)\n",
        "print('Average Treatment Effect (XGBoost): {:.2f} ({:.2f}, {:.2f})'.format(te, lb, ub))"
      ],
      "execution_count": 87,
      "outputs": [
        {
          "output_type": "stream",
          "text": [
            "Average Treatment Effect (XGBoost): 0.22 (0.07, 0.37)\n"
          ],
          "name": "stdout"
        }
      ]
    },
    {
      "cell_type": "code",
      "metadata": {
        "id": "w2_occkhflbY",
        "colab_type": "code",
        "colab": {}
      },
      "source": [
        ""
      ],
      "execution_count": 0,
      "outputs": []
    }
  ]
}