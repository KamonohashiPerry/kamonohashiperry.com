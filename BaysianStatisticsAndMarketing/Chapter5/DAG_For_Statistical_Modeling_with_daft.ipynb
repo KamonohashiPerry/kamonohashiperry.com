{
 "cells": [
  {
   "cell_type": "code",
   "execution_count": 1,
   "metadata": {},
   "outputs": [],
   "source": [
    "import daft\n",
    "from matplotlib import rc"
   ]
  },
  {
   "cell_type": "code",
   "execution_count": 11,
   "metadata": {},
   "outputs": [
    {
     "data": {
      "image/png": "[encoded data removed]",
      "text/plain": [
       "<Figure size 340.157x340.157 with 1 Axes>"
      ]
     },
     "metadata": {},
     "output_type": "display_data"
    }
   ],
   "source": [
    "pgm = daft.PGM(shape=[6,6])\n",
    "\n",
    "# Nodes\n",
    "pgm.add_node(daft.Node(\"pvec\", r\"pvec\",\n",
    "                                               1, 2)) # 名前　ラベル　座標(横、縦)\n",
    "pgm.add_node(daft.Node(\"ind\", r\"ind\",\n",
    "                                               2, 2))\n",
    "pgm.add_node(daft.Node(\"sigma\", r\"$\\Sigma_k$\",\n",
    "                                               3, 1))\n",
    "pgm.add_node(daft.Node(\"mu\", r\"$\\mu_k$\",\n",
    "                                               3, 3))\n",
    "pgm.add_node(daft.Node(\"theta\", r\"$\\theta_i$\",\n",
    "                                               4, 2))\n",
    "pgm.add_node(daft.Node(\"delta\", r\"$\\Delta$\",\n",
    "                                               4, 0.5))\n",
    "pgm.add_node(daft.Node(\"y\", r\"$y_i$\",\n",
    "                                               5, 2,observed=True))\n",
    "\n",
    "# Edges\n",
    "pgm.add_edge(\"pvec\", \"ind\")\n",
    "pgm.add_edge(\"ind\", \"sigma\")\n",
    "pgm.add_edge(\"ind\", \"mu\")\n",
    "pgm.add_edge(\"sigma\", \"mu\")\n",
    "pgm.add_edge(\"sigma\", \"theta\")\n",
    "pgm.add_edge(\"mu\", \"theta\")\n",
    "pgm.add_edge(\"delta\", \"theta\")\n",
    "pgm.add_edge(\"theta\", \"y\")\n",
    "\n",
    "pgm.render()\n",
    "pgm.figure.savefig(\"Hierachical_Models_ForMixtureNormal.png\")"
   ]
  }
 ],
 "metadata": {
  "kernelspec": {
   "display_name": "Python [conda root]",
   "language": "python",
   "name": "conda-root-py"
  },
  "language_info": {
   "codemirror_mode": {
    "name": "ipython",
    "version": 3
   },
   "file_extension": ".py",
   "mimetype": "text/x-python",
   "name": "python",
   "nbconvert_exporter": "python",
   "pygments_lexer": "ipython3",
   "version": "3.5.5"
  },
  "toc": {
   "base_numbering": 1,
   "nav_menu": {},
   "number_sections": true,
   "sideBar": true,
   "skip_h1_title": false,
   "title_cell": "Table of Contents",
   "title_sidebar": "Contents",
   "toc_cell": false,
   "toc_position": {},
   "toc_section_display": true,
   "toc_window_display": false
  }
 },
 "nbformat": 4,
 "nbformat_minor": 2
}
